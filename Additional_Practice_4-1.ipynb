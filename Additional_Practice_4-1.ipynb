{
 "cells": [
  {
   "cell_type": "code",
   "execution_count": 2,
   "metadata": {},
   "outputs": [
    {
     "name": "stdout",
     "output_type": "stream",
     "text": [
      "The entry is a \n",
      "Oops! <class 'ValueError'> occured. \n",
      "The entry is 0 \n",
      "Oops! <class 'ZeroDivisionError'> occured. \n",
      "The entry is 2 \n",
      "The reciprocal of 2 is 0.5\n"
     ]
    }
   ],
   "source": [
    "\"\"\"\n",
    "\n",
    "1) Write a Python program which accepts a list named : randomList = ['a', 0,2]. \n",
    "Use exception handling using try-catch which gives the output as:\n",
    "Output\n",
    "1) If the List element is a alphabet or string, the output will be\n",
    "The entry is a\n",
    "Oops! <class 'ValueError'> occured.\n",
    "Next entry.\n",
    "2) If the List element is “0”,the output will be\n",
    "The entry is 0\n",
    "Oops! <class 'ZeroDivisionError'> occured.\n",
    "Next entry.\n",
    "3) If the List element is and integer except 0,then output will be\n",
    "The entry is 2\n",
    "The reciprocal of 2 is 0.5 // reciprocal of an integer\n",
    "\n",
    "\"\"\"\n",
    "randomList = ['a',0,2]\n",
    "\n",
    "for i in randomList:\n",
    "    try:\n",
    "        n=int(i)\n",
    "        res= 1/i\n",
    "    except ZeroDivisionError:\n",
    "        print(\"The entry is 0 \\nOops! <class 'ZeroDivisionError'> occured. \")    \n",
    "    except ValueError:\n",
    "        print(\"The entry is {} \\nOops! <class 'ValueError'> occured. \".format(i))\n",
    "    else:   \n",
    "        print (\"The entry is {} \\nThe reciprocal of {} is {}\".format(i,i,res))\n",
    "\n"
   ]
  },
  {
   "cell_type": "code",
   "execution_count": 14,
   "metadata": {},
   "outputs": [
    {
     "name": "stdout",
     "output_type": "stream",
     "text": [
      "1\n",
      "2\n",
      "3\n",
      "Array Out of Bound\n"
     ]
    }
   ],
   "source": [
    "\"\"\"\n",
    "2) Array out of Bound Exception\n",
    "Write a Python program to give exception “Array Out of Bound” if the\n",
    "user wants to access the elements beyond the list size (use try and except)\n",
    "\n",
    "\"\"\"\n",
    "\n",
    "my_lst=[1,2,3]\n",
    "\n",
    "for i in range (0, len(my_lst)+1):\n",
    "    try:\n",
    "        print (my_lst[i])\n",
    "    except Exception:\n",
    "        print(\"Array Out of Bound\")\n",
    "\n"
   ]
  }
 ],
 "metadata": {
  "kernelspec": {
   "display_name": "Python 3",
   "language": "python",
   "name": "python3"
  },
  "language_info": {
   "codemirror_mode": {
    "name": "ipython",
    "version": 3
   },
   "file_extension": ".py",
   "mimetype": "text/x-python",
   "name": "python",
   "nbconvert_exporter": "python",
   "pygments_lexer": "ipython3",
   "version": "3.7.0"
  }
 },
 "nbformat": 4,
 "nbformat_minor": 2
}
